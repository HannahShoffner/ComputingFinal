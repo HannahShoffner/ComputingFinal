{
 "cells": [
  {
   "cell_type": "markdown",
   "id": "d8853397-ab3a-4fac-b2c4-ea1ebaaf0652",
   "metadata": {},
   "source": [
    "The following code imports the moviepy code and its video editting functions."
   ]
  },
  {
   "cell_type": "code",
   "execution_count": 1,
   "id": "e11c9587-b66d-4a42-8f9b-d2d128b55ea8",
   "metadata": {},
   "outputs": [],
   "source": [
    "from moviepy import VideoFileClip, TextClip, CompositeVideoClip, ImageSequenceClip,ImageClip"
   ]
  },
  {
   "cell_type": "markdown",
   "id": "91f3c0a8-ccbc-40b7-abd4-fc82c392d78e",
   "metadata": {},
   "source": [
    "This first code example shortens the video to only include the portion with the worms in the picture. Instead of the video being its full one minute and one second, it will start in the middle of the video and run for thirty seconds."
   ]
  },
  {
   "cell_type": "code",
   "execution_count": 2,
   "id": "14f38dac-b9bf-4fce-be7c-79c8c547a8f8",
   "metadata": {},
   "outputs": [
    {
     "name": "stdout",
     "output_type": "stream",
     "text": [
      "{'video_found': True, 'audio_found': True, 'metadata': {'major_brand': 'mp42', 'minor_version': '0', 'compatible_brands': 'mp41isom', 'creation_time': '2025-03-21T16:58:18.000000Z'}, 'inputs': [{'streams': [{'input_number': 0, 'stream_number': 0, 'stream_type': 'video', 'language': None, 'default': True, 'size': [1920, 1080], 'bitrate': 5857, 'fps': 9.71, 'codec_name': 'h264', 'profile': '(Main)', 'metadata': {'Metadata': '', 'creation_time': '2025-03-21T16:58:18.000000Z', 'handler_name': 'VideoHandler', 'vendor_id': '[0][0][0][0]', 'encoder': 'AVC Coding'}}, {'input_number': 0, 'stream_number': 1, 'stream_type': 'audio', 'language': None, 'default': True, 'fps': 48000, 'bitrate': 175, 'metadata': {'Metadata': '', 'creation_time': '2025-03-21T16:58:18.000000Z', 'handler_name': 'SoundHandler', 'vendor_id': '[0][0][0][0]'}}], 'input_number': 0}], 'duration': 61.6, 'bitrate': 6038, 'start': 0.0, 'default_video_input_number': 0, 'default_video_stream_number': 0, 'video_codec_name': 'h264', 'video_profile': '(Main)', 'video_size': [1920, 1080], 'video_bitrate': 5857, 'video_fps': 9.71, 'default_audio_input_number': 0, 'default_audio_stream_number': 1, 'audio_fps': 48000, 'audio_bitrate': 175, 'video_duration': 61.6, 'video_n_frames': 598}\n",
      "C:\\Users\\Hannah\\miniconda3\\envs\\python\\Lib\\site-packages\\imageio_ffmpeg\\binaries\\ffmpeg-win-x86_64-v7.1.exe -i zall.mp4 -loglevel error -f image2pipe -vf scale=1920:1080 -sws_flags bicubic -pix_fmt rgb24 -vcodec rawvideo -\n"
     ]
    }
   ],
   "source": [
    "clip = (\n",
    "    VideoFileClip(\"zall.mp4\") \n",
    "    .subclipped(8,38))"
   ]
  },
  {
   "cell_type": "markdown",
   "id": "3d886453-52ed-451e-881e-3ec2231d6de8",
   "metadata": {},
   "source": [
    "The following code uploads an image of a red circle and defines it as a \"logo,\" as well as defining the space the circle will be placed. "
   ]
  },
  {
   "cell_type": "code",
   "execution_count": 3,
   "id": "4ac2dd1b-909e-443c-a472-09fea76abdde",
   "metadata": {},
   "outputs": [],
   "source": [
    "logo_clip = ImageClip(\"redcircle.png\").resized(width=200)\n",
    "logo_clip = logo_clip.with_position((600, 375))"
   ]
  },
  {
   "cell_type": "markdown",
   "id": "d1a1a3be-36f2-4d87-95a4-86f8d889f271",
   "metadata": {},
   "source": [
    "The following code defines how long the circle will appear: for 25 seconds, after one second has elapsed."
   ]
  },
  {
   "cell_type": "code",
   "execution_count": 4,
   "id": "cc7d7fa8-bbe6-4935-8501-a3751b84aa55",
   "metadata": {},
   "outputs": [],
   "source": [
    "logo_clip = logo_clip.with_duration(25).with_start(1)"
   ]
  },
  {
   "cell_type": "markdown",
   "id": "a37f967e-eb4b-40e8-923e-14f1310827ad",
   "metadata": {},
   "source": [
    "The following code joins together the two \"video\" clips, overlaying the circle on the video of the worms and then exporting it as a file to download onto the computer."
   ]
  },
  {
   "cell_type": "code",
   "execution_count": 5,
   "id": "30768eb1-43a7-461f-b6d6-b0d589ae7aba",
   "metadata": {},
   "outputs": [
    {
     "name": "stdout",
     "output_type": "stream",
     "text": [
      "MoviePy - Building video zzaaazznewzs.mp4.\n",
      "MoviePy - Writing audio in zzaaazznewzsTEMP_MPY_wvf_snd.mp3\n"
     ]
    },
    {
     "name": "stderr",
     "output_type": "stream",
     "text": [
      "                                                                                                                       "
     ]
    },
    {
     "name": "stdout",
     "output_type": "stream",
     "text": [
      "MoviePy - Done.\n",
      "MoviePy - Writing video zzaaazznewzs.mp4\n",
      "\n"
     ]
    },
    {
     "name": "stderr",
     "output_type": "stream",
     "text": [
      "                                                                                                                       "
     ]
    },
    {
     "name": "stdout",
     "output_type": "stream",
     "text": [
      "MoviePy - Done !\n",
      "MoviePy - video ready zzaaazznewzs.mp4\n"
     ]
    }
   ],
   "source": [
    "final_clip = CompositeVideoClip([clip, logo_clip])\n",
    "final_clip.write_videofile(\"zzaaazznewzs.mp4\")"
   ]
  },
  {
   "cell_type": "markdown",
   "id": "3ff77ae7-257b-499d-8ecd-3114530107e4",
   "metadata": {},
   "source": [
    "Opened CSV file, I threw away two lines because they did not contain data, then I wrote code to write the data. I created dictionaries for the trials, created variables for the column headers for the tidy data sheet. "
   ]
  },
  {
   "cell_type": "code",
   "execution_count": 26,
   "id": "7e754f45-f10a-4985-b2a9-8ff55bc51b14",
   "metadata": {},
   "outputs": [],
   "source": [
    "import csv\n",
    "\n",
    "with open('dataset.csv.csv') as csvf:\n",
    "    with open('tidydata.csv', 'w') as f:\n",
    "        writer =csv.DictWriter(f, fieldnames=[\"trial\", \"drug\", \"worms\"])\n",
    "        throwaway = csvf.readline()\n",
    "        throwaway = csvf.readline()\n",
    "        wormreader = csv.reader(csvf)\n",
    "        writer.writeheader()\n",
    "        for rownum in range(4):\n",
    "            row=next(wormreader)\n",
    "            outrow = {\"trial\":1}\n",
    "            outrow[\"drug\"]=row[1]\n",
    "            outrow[\"worms\"]=row[2]\n",
    "            writer.writerow(outrow)\n",
    "        for lines in range(3):\n",
    "            throwaway = csvf.readline()\n",
    "        for rownum in range(4):\n",
    "            row=next(wormreader)\n",
    "            outrow = {\"trial\":2}\n",
    "            outrow[\"drug\"]=row[1]\n",
    "            outrow[\"worms\"]=row[2]\n",
    "            writer.writerow(outrow)\n",
    "        for lines in range(3):\n",
    "            throwaway = csvf.readline()\n",
    "        for rownum in range(4):\n",
    "            row=next(wormreader)\n",
    "            outrow = {\"trial\":3}\n",
    "            outrow[\"drug\"]=row[1]\n",
    "            outrow[\"worms\"]=row[2]\n",
    "            writer.writerow(outrow)\n",
    "            \n",
    " "
   ]
  },
  {
   "cell_type": "code",
   "execution_count": null,
   "id": "b0f65c01-da4b-4c53-9fd1-c5cfbb8e3151",
   "metadata": {},
   "outputs": [],
   "source": []
  }
 ],
 "metadata": {
  "kernelspec": {
   "display_name": "Python 3 (ipykernel)",
   "language": "python",
   "name": "python3"
  },
  "language_info": {
   "codemirror_mode": {
    "name": "ipython",
    "version": 3
   },
   "file_extension": ".py",
   "mimetype": "text/x-python",
   "name": "python",
   "nbconvert_exporter": "python",
   "pygments_lexer": "ipython3",
   "version": "3.13.1"
  }
 },
 "nbformat": 4,
 "nbformat_minor": 5
}
