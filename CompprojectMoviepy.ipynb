{
 "cells": [
  {
   "cell_type": "markdown",
   "id": "d8853397-ab3a-4fac-b2c4-ea1ebaaf0652",
   "metadata": {},
   "source": [
    "The following code imports the moviepy code and its video editting functions."
   ]
  },
  {
   "cell_type": "code",
   "execution_count": 26,
   "id": "e11c9587-b66d-4a42-8f9b-d2d128b55ea8",
   "metadata": {},
   "outputs": [],
   "source": [
    "from moviepy import VideoFileClip, TextClip, CompositeVideoClip, ImageSequenceClip,ImageClip"
   ]
  },
  {
   "cell_type": "markdown",
   "id": "91f3c0a8-ccbc-40b7-abd4-fc82c392d78e",
   "metadata": {},
   "source": [
    "This first code example shortens the video to only include the portion with the worms in the picture. Instead of the video being its full one minute and one second, it will start in the middle of the video and run for 26 seconds."
   ]
  },
  {
   "cell_type": "code",
   "execution_count": 27,
   "id": "14f38dac-b9bf-4fce-be7c-79c8c547a8f8",
   "metadata": {},
   "outputs": [
    {
     "name": "stdout",
     "output_type": "stream",
     "text": [
      "{'video_found': True, 'audio_found': True, 'metadata': {'major_brand': 'mp42', 'minor_version': '0', 'compatible_brands': 'mp41isom', 'creation_time': '2025-03-21T16:58:18.000000Z'}, 'inputs': [{'streams': [{'input_number': 0, 'stream_number': 0, 'stream_type': 'video', 'language': None, 'default': True, 'size': [1920, 1080], 'bitrate': 5857, 'fps': 9.71, 'codec_name': 'h264', 'profile': '(Main)', 'metadata': {'Metadata': '', 'creation_time': '2025-03-21T16:58:18.000000Z', 'handler_name': 'VideoHandler', 'vendor_id': '[0][0][0][0]', 'encoder': 'AVC Coding'}}, {'input_number': 0, 'stream_number': 1, 'stream_type': 'audio', 'language': None, 'default': True, 'fps': 48000, 'bitrate': 175, 'metadata': {'Metadata': '', 'creation_time': '2025-03-21T16:58:18.000000Z', 'handler_name': 'SoundHandler', 'vendor_id': '[0][0][0][0]'}}], 'input_number': 0}], 'duration': 61.6, 'bitrate': 6038, 'start': 0.0, 'default_video_input_number': 0, 'default_video_stream_number': 0, 'video_codec_name': 'h264', 'video_profile': '(Main)', 'video_size': [1920, 1080], 'video_bitrate': 5857, 'video_fps': 9.71, 'default_audio_input_number': 0, 'default_audio_stream_number': 1, 'audio_fps': 48000, 'audio_bitrate': 175, 'video_duration': 61.6, 'video_n_frames': 598}\n",
      "C:\\Users\\Hannah\\miniconda3\\envs\\python\\Lib\\site-packages\\imageio_ffmpeg\\binaries\\ffmpeg-win-x86_64-v7.1.exe -i zall.mp4 -loglevel error -f image2pipe -vf scale=1920:1080 -sws_flags bicubic -pix_fmt rgb24 -vcodec rawvideo -\n"
     ]
    }
   ],
   "source": [
    "clip1 = (\n",
    "    VideoFileClip(\"zall.mp4\") \n",
    "    .subclipped(8,34))"
   ]
  },
  {
   "cell_type": "markdown",
   "id": "3d886453-52ed-451e-881e-3ec2231d6de8",
   "metadata": {},
   "source": [
    "The following code uploads an image of a red circle and defines it as a \"logo,\" as well as defining the space the circle will be placed. "
   ]
  },
  {
   "cell_type": "code",
   "execution_count": 28,
   "id": "4ac2dd1b-909e-443c-a472-09fea76abdde",
   "metadata": {},
   "outputs": [],
   "source": [
    "logo_clip = ImageClip(\"redcircle.png\").resized(width=200)\n",
    "logo_clip = logo_clip.with_position((600, 375))"
   ]
  },
  {
   "cell_type": "markdown",
   "id": "d1a1a3be-36f2-4d87-95a4-86f8d889f271",
   "metadata": {},
   "source": [
    "The following code defines how long the circle will appear: for 10 seconds, after one second has elapsed."
   ]
  },
  {
   "cell_type": "code",
   "execution_count": 29,
   "id": "cc7d7fa8-bbe6-4935-8501-a3751b84aa55",
   "metadata": {},
   "outputs": [],
   "source": [
    "logo_clip = logo_clip.with_duration(10).with_start(0)"
   ]
  },
  {
   "cell_type": "markdown",
   "id": "a37f967e-eb4b-40e8-923e-14f1310827ad",
   "metadata": {},
   "source": [
    "The following code joins together the two \"video\" clips, overlaying the circle on the video of the worms and then exporting it as a file to download onto the computer."
   ]
  },
  {
   "cell_type": "code",
   "execution_count": 30,
   "id": "30768eb1-43a7-461f-b6d6-b0d589ae7aba",
   "metadata": {},
   "outputs": [
    {
     "name": "stdout",
     "output_type": "stream",
     "text": [
      "MoviePy - Building video zzaaazznewzs.mp4.\n",
      "MoviePy - Writing audio in zzaaazznewzsTEMP_MPY_wvf_snd.mp3\n"
     ]
    },
    {
     "name": "stderr",
     "output_type": "stream",
     "text": [
      "                                                                                   "
     ]
    },
    {
     "name": "stdout",
     "output_type": "stream",
     "text": [
      "MoviePy - Done.\n",
      "MoviePy - Writing video zzaaazznewzs.mp4\n",
      "\n"
     ]
    },
    {
     "name": "stderr",
     "output_type": "stream",
     "text": [
      "                                                                                   "
     ]
    },
    {
     "name": "stdout",
     "output_type": "stream",
     "text": [
      "MoviePy - Done !\n",
      "MoviePy - video ready zzaaazznewzs.mp4\n"
     ]
    }
   ],
   "source": [
    "final_clip1 = CompositeVideoClip([clip1, logo_clip])\n",
    "final_clip1.write_videofile(\"zzaaazznewzs.mp4\")"
   ]
  },
  {
   "cell_type": "markdown",
   "id": "1e62441a-f3bc-4e54-98b7-5f632ff36cb7",
   "metadata": {},
   "source": [
    "The process is repeated for two more videos. A loop was not chosen since each video was of different length and had worms in different locations."
   ]
  },
  {
   "cell_type": "code",
   "execution_count": 31,
   "id": "695a3aeb-bd46-45b5-aa21-26868d2f15b6",
   "metadata": {
    "scrolled": true
   },
   "outputs": [
    {
     "name": "stdout",
     "output_type": "stream",
     "text": [
      "{'video_found': True, 'audio_found': True, 'metadata': {'major_brand': 'mp42', 'minor_version': '0', 'compatible_brands': 'mp41isom', 'creation_time': '2025-03-23T21:06:28.000000Z'}, 'inputs': [{'streams': [{'input_number': 0, 'stream_number': 0, 'stream_type': 'video', 'language': None, 'default': True, 'size': [1920, 1080], 'bitrate': 5839, 'fps': 9.7, 'codec_name': 'h264', 'profile': '(Main)', 'metadata': {'Metadata': '', 'creation_time': '2025-03-23T21:06:28.000000Z', 'handler_name': 'VideoHandler', 'vendor_id': '[0][0][0][0]', 'encoder': 'AVC Coding'}}, {'input_number': 0, 'stream_number': 1, 'stream_type': 'audio', 'language': None, 'default': True, 'fps': 48000, 'bitrate': 179, 'metadata': {'Metadata': '', 'creation_time': '2025-03-23T21:06:28.000000Z', 'handler_name': 'SoundHandler', 'vendor_id': '[0][0][0][0]'}}], 'input_number': 0}], 'duration': 93.36, 'bitrate': 6023, 'start': 0.0, 'default_video_input_number': 0, 'default_video_stream_number': 0, 'video_codec_name': 'h264', 'video_profile': '(Main)', 'video_size': [1920, 1080], 'video_bitrate': 5839, 'video_fps': 9.7, 'default_audio_input_number': 0, 'default_audio_stream_number': 1, 'audio_fps': 48000, 'audio_bitrate': 179, 'video_duration': 93.36, 'video_n_frames': 905}\n",
      "C:\\Users\\Hannah\\miniconda3\\envs\\python\\Lib\\site-packages\\imageio_ffmpeg\\binaries\\ffmpeg-win-x86_64-v7.1.exe -i 2cz1.mp4 -loglevel error -f image2pipe -vf scale=1920:1080 -sws_flags bicubic -pix_fmt rgb24 -vcodec rawvideo -\n",
      "{'video_found': True, 'audio_found': True, 'metadata': {'major_brand': 'mp42', 'minor_version': '0', 'compatible_brands': 'mp41isom', 'creation_time': '2025-03-23T21:06:28.000000Z'}, 'inputs': [{'streams': [{'input_number': 0, 'stream_number': 0, 'stream_type': 'video', 'language': None, 'default': True, 'size': [1920, 1080], 'bitrate': 5839, 'fps': 9.7, 'codec_name': 'h264', 'profile': '(Main)', 'metadata': {'Metadata': '', 'creation_time': '2025-03-23T21:06:28.000000Z', 'handler_name': 'VideoHandler', 'vendor_id': '[0][0][0][0]', 'encoder': 'AVC Coding'}}, {'input_number': 0, 'stream_number': 1, 'stream_type': 'audio', 'language': None, 'default': True, 'fps': 48000, 'bitrate': 179, 'metadata': {'Metadata': '', 'creation_time': '2025-03-23T21:06:28.000000Z', 'handler_name': 'SoundHandler', 'vendor_id': '[0][0][0][0]'}}], 'input_number': 0}], 'duration': 93.36, 'bitrate': 6023, 'start': 0.0, 'default_video_input_number': 0, 'default_video_stream_number': 0, 'video_codec_name': 'h264', 'video_profile': '(Main)', 'video_size': [1920, 1080], 'video_bitrate': 5839, 'video_fps': 9.7, 'default_audio_input_number': 0, 'default_audio_stream_number': 1, 'audio_fps': 48000, 'audio_bitrate': 179, 'video_duration': 93.36, 'video_n_frames': 905}\n",
      "C:\\Users\\Hannah\\miniconda3\\envs\\python\\Lib\\site-packages\\imageio_ffmpeg\\binaries\\ffmpeg-win-x86_64-v7.1.exe -ss 63.000000 -i 2cz1.mp4 -ss 1.000000 -loglevel error -f image2pipe -vf scale=1920:1080 -sws_flags bicubic -pix_fmt rgb24 -vcodec rawvideo -\n"
     ]
    }
   ],
   "source": [
    "clip2 = (\n",
    "    VideoFileClip(\"2cz1.mp4\") \n",
    "    .subclipped(64,90))"
   ]
  },
  {
   "cell_type": "code",
   "execution_count": 32,
   "id": "35c44a02-75ac-4706-968c-7be0ddbcaa50",
   "metadata": {},
   "outputs": [],
   "source": [
    "logo_clip = ImageClip(\"redcircle.png\").resized(width=200)\n",
    "logo_clip = logo_clip.with_position((800, 700))\n",
    "logo_clip = logo_clip.with_duration(10).with_start(0.5)"
   ]
  },
  {
   "cell_type": "code",
   "execution_count": 33,
   "id": "53a792d6-0a00-4692-a8eb-96171bf1ddbe",
   "metadata": {
    "scrolled": true
   },
   "outputs": [
    {
     "name": "stdout",
     "output_type": "stream",
     "text": [
      "MoviePy - Building video 2cz1newzzzzs.mp4.\n",
      "MoviePy - Writing audio in 2cz1newzzzzsTEMP_MPY_wvf_snd.mp3\n"
     ]
    },
    {
     "name": "stderr",
     "output_type": "stream",
     "text": [
      "                                                                                   "
     ]
    },
    {
     "name": "stdout",
     "output_type": "stream",
     "text": [
      "MoviePy - Done.\n",
      "MoviePy - Writing video 2cz1newzzzzs.mp4\n",
      "\n"
     ]
    },
    {
     "name": "stderr",
     "output_type": "stream",
     "text": [
      "                                                                                   "
     ]
    },
    {
     "name": "stdout",
     "output_type": "stream",
     "text": [
      "MoviePy - Done !\n",
      "MoviePy - video ready 2cz1newzzzzs.mp4\n"
     ]
    }
   ],
   "source": [
    "final_clip2 = CompositeVideoClip([clip2, logo_clip])\n",
    "final_clip2.write_videofile(\"2cz1newzzzzs.mp4\")"
   ]
  },
  {
   "cell_type": "code",
   "execution_count": 34,
   "id": "121cfd29-9669-495c-b061-2cfa32571488",
   "metadata": {
    "scrolled": true
   },
   "outputs": [
    {
     "name": "stdout",
     "output_type": "stream",
     "text": [
      "{'video_found': True, 'audio_found': True, 'metadata': {'major_brand': 'mp42', 'minor_version': '0', 'compatible_brands': 'mp41isom', 'creation_time': '2025-04-03T18:03:20.000000Z'}, 'inputs': [{'streams': [{'input_number': 0, 'stream_number': 0, 'stream_type': 'video', 'language': None, 'default': True, 'size': [1920, 1080], 'bitrate': 5879, 'fps': 9.72, 'codec_name': 'h264', 'profile': '(Main)', 'metadata': {'Metadata': '', 'creation_time': '2025-04-03T18:03:20.000000Z', 'handler_name': 'VideoHandler', 'vendor_id': '[0][0][0][0]', 'encoder': 'AVC Coding'}}, {'input_number': 0, 'stream_number': 1, 'stream_type': 'audio', 'language': None, 'default': True, 'fps': 48000, 'bitrate': 175, 'metadata': {'Metadata': '', 'creation_time': '2025-04-03T18:03:20.000000Z', 'handler_name': 'SoundHandler', 'vendor_id': '[0][0][0][0]'}}], 'input_number': 0}], 'duration': 30.5, 'bitrate': 6050, 'start': 0.0, 'default_video_input_number': 0, 'default_video_stream_number': 0, 'video_codec_name': 'h264', 'video_profile': '(Main)', 'video_size': [1920, 1080], 'video_bitrate': 5879, 'video_fps': 9.72, 'default_audio_input_number': 0, 'default_audio_stream_number': 1, 'audio_fps': 48000, 'audio_bitrate': 175, 'video_duration': 30.5, 'video_n_frames': 296}\n",
      "C:\\Users\\Hannah\\miniconda3\\envs\\python\\Lib\\site-packages\\imageio_ffmpeg\\binaries\\ffmpeg-win-x86_64-v7.1.exe -i 43ngmthrash.mp4 -loglevel error -f image2pipe -vf scale=1920:1080 -sws_flags bicubic -pix_fmt rgb24 -vcodec rawvideo -\n"
     ]
    }
   ],
   "source": [
    "clip3 = (\n",
    "    VideoFileClip(\"43ngmthrash.mp4\")\n",
    "   .subclipped(0,26))"
   ]
  },
  {
   "cell_type": "code",
   "execution_count": 35,
   "id": "80e4f5e5-8d45-4748-9b84-37b2f1c80266",
   "metadata": {
    "scrolled": true
   },
   "outputs": [
    {
     "name": "stdout",
     "output_type": "stream",
     "text": [
      "MoviePy - Building video 43ngmnewzzzzzzzzzs.mp4.\n",
      "MoviePy - Writing audio in 43ngmnewzzzzzzzzzsTEMP_MPY_wvf_snd.mp3\n"
     ]
    },
    {
     "name": "stderr",
     "output_type": "stream",
     "text": [
      "                                                                                   "
     ]
    },
    {
     "name": "stdout",
     "output_type": "stream",
     "text": [
      "MoviePy - Done.\n",
      "MoviePy - Writing video 43ngmnewzzzzzzzzzs.mp4\n",
      "\n"
     ]
    },
    {
     "name": "stderr",
     "output_type": "stream",
     "text": [
      "                                                                                   "
     ]
    },
    {
     "name": "stdout",
     "output_type": "stream",
     "text": [
      "MoviePy - Done !\n",
      "MoviePy - video ready 43ngmnewzzzzzzzzzs.mp4\n"
     ]
    }
   ],
   "source": [
    "logo_clip = ImageClip(\"redcircle.png\").resized(width=300)\n",
    "logo_clip = logo_clip.with_position((800, 400))\n",
    "logo_clip = logo_clip.with_duration(10).with_start(1)\n",
    "final_clip3 = CompositeVideoClip([clip3, logo_clip])\n",
    "final_clip3.write_videofile(\"43ngmnewzzzzzzzzzs.mp4\")"
   ]
  },
  {
   "cell_type": "markdown",
   "id": "b52fc8e0-07b4-43a8-a2a1-645ce8b27da9",
   "metadata": {},
   "source": [
    "The following code imports another function from MoviePy that can put clips together at the same time or in series."
   ]
  },
  {
   "cell_type": "code",
   "execution_count": 36,
   "id": "e58ec6ea-b4a3-48e0-b0c0-270f29bb5479",
   "metadata": {},
   "outputs": [],
   "source": [
    "from moviepy import clips_array"
   ]
  },
  {
   "cell_type": "markdown",
   "id": "51a40e49-9e19-44ae-9665-c5847a109cc4",
   "metadata": {},
   "source": [
    "The array function puts all clips together as a matrix. I want all three videos side by side, so a 1X3 \"matrix\" was created. After defining the array the array function is ran and the net clip is exported as a video file. "
   ]
  },
  {
   "cell_type": "code",
   "execution_count": 37,
   "id": "7374dd3c-4ddc-41f8-b299-e60d1f814375",
   "metadata": {},
   "outputs": [
    {
     "name": "stdout",
     "output_type": "stream",
     "text": [
      "MoviePy - Building video allthree1.mp4.\n",
      "MoviePy - Writing audio in allthree1TEMP_MPY_wvf_snd.mp3\n"
     ]
    },
    {
     "name": "stderr",
     "output_type": "stream",
     "text": [
      "                                                                                   "
     ]
    },
    {
     "name": "stdout",
     "output_type": "stream",
     "text": [
      "MoviePy - Done.\n",
      "MoviePy - Writing video allthree1.mp4\n",
      "\n"
     ]
    },
    {
     "name": "stderr",
     "output_type": "stream",
     "text": [
      "frame_index:   0%|                               | 0/252 [00:00<?, ?it/s, now=None]"
     ]
    },
    {
     "name": "stdout",
     "output_type": "stream",
     "text": [
      "{'video_found': True, 'audio_found': True, 'metadata': {'major_brand': 'mp42', 'minor_version': '0', 'compatible_brands': 'mp41isom', 'creation_time': '2025-03-21T16:58:18.000000Z'}, 'inputs': [{'streams': [{'input_number': 0, 'stream_number': 0, 'stream_type': 'video', 'language': None, 'default': True, 'size': [1920, 1080], 'bitrate': 5857, 'fps': 9.71, 'codec_name': 'h264', 'profile': '(Main)', 'metadata': {'Metadata': '', 'creation_time': '2025-03-21T16:58:18.000000Z', 'handler_name': 'VideoHandler', 'vendor_id': '[0][0][0][0]', 'encoder': 'AVC Coding'}}, {'input_number': 0, 'stream_number': 1, 'stream_type': 'audio', 'language': None, 'default': True, 'fps': 48000, 'bitrate': 175, 'metadata': {'Metadata': '', 'creation_time': '2025-03-21T16:58:18.000000Z', 'handler_name': 'SoundHandler', 'vendor_id': '[0][0][0][0]'}}], 'input_number': 0}], 'duration': 61.6, 'bitrate': 6038, 'start': 0.0, 'default_video_input_number': 0, 'default_video_stream_number': 0, 'video_codec_name': 'h264', 'video_profile': '(Main)', 'video_size': [1920, 1080], 'video_bitrate': 5857, 'video_fps': 9.71, 'default_audio_input_number': 0, 'default_audio_stream_number': 1, 'audio_fps': 48000, 'audio_bitrate': 175, 'video_duration': 61.6, 'video_n_frames': 598}\n",
      "C:\\Users\\Hannah\\miniconda3\\envs\\python\\Lib\\site-packages\\imageio_ffmpeg\\binaries\\ffmpeg-win-x86_64-v7.1.exe -ss 7.000000 -i zall.mp4 -ss 1.000000 -loglevel error -f image2pipe -vf scale=1920:1080 -sws_flags bicubic -pix_fmt rgb24 -vcodec rawvideo -\n",
      "{'video_found': True, 'audio_found': True, 'metadata': {'major_brand': 'mp42', 'minor_version': '0', 'compatible_brands': 'mp41isom', 'creation_time': '2025-03-23T21:06:28.000000Z'}, 'inputs': [{'streams': [{'input_number': 0, 'stream_number': 0, 'stream_type': 'video', 'language': None, 'default': True, 'size': [1920, 1080], 'bitrate': 5839, 'fps': 9.7, 'codec_name': 'h264', 'profile': '(Main)', 'metadata': {'Metadata': '', 'creation_time': '2025-03-23T21:06:28.000000Z', 'handler_name': 'VideoHandler', 'vendor_id': '[0][0][0][0]', 'encoder': 'AVC Coding'}}, {'input_number': 0, 'stream_number': 1, 'stream_type': 'audio', 'language': None, 'default': True, 'fps': 48000, 'bitrate': 179, 'metadata': {'Metadata': '', 'creation_time': '2025-03-23T21:06:28.000000Z', 'handler_name': 'SoundHandler', 'vendor_id': '[0][0][0][0]'}}], 'input_number': 0}], 'duration': 93.36, 'bitrate': 6023, 'start': 0.0, 'default_video_input_number': 0, 'default_video_stream_number': 0, 'video_codec_name': 'h264', 'video_profile': '(Main)', 'video_size': [1920, 1080], 'video_bitrate': 5839, 'video_fps': 9.7, 'default_audio_input_number': 0, 'default_audio_stream_number': 1, 'audio_fps': 48000, 'audio_bitrate': 179, 'video_duration': 93.36, 'video_n_frames': 905}\n",
      "C:\\Users\\Hannah\\miniconda3\\envs\\python\\Lib\\site-packages\\imageio_ffmpeg\\binaries\\ffmpeg-win-x86_64-v7.1.exe -ss 63.000000 -i 2cz1.mp4 -ss 1.000000 -loglevel error -f image2pipe -vf scale=1920:1080 -sws_flags bicubic -pix_fmt rgb24 -vcodec rawvideo -\n",
      "{'video_found': True, 'audio_found': True, 'metadata': {'major_brand': 'mp42', 'minor_version': '0', 'compatible_brands': 'mp41isom', 'creation_time': '2025-04-03T18:03:20.000000Z'}, 'inputs': [{'streams': [{'input_number': 0, 'stream_number': 0, 'stream_type': 'video', 'language': None, 'default': True, 'size': [1920, 1080], 'bitrate': 5879, 'fps': 9.72, 'codec_name': 'h264', 'profile': '(Main)', 'metadata': {'Metadata': '', 'creation_time': '2025-04-03T18:03:20.000000Z', 'handler_name': 'VideoHandler', 'vendor_id': '[0][0][0][0]', 'encoder': 'AVC Coding'}}, {'input_number': 0, 'stream_number': 1, 'stream_type': 'audio', 'language': None, 'default': True, 'fps': 48000, 'bitrate': 175, 'metadata': {'Metadata': '', 'creation_time': '2025-04-03T18:03:20.000000Z', 'handler_name': 'SoundHandler', 'vendor_id': '[0][0][0][0]'}}], 'input_number': 0}], 'duration': 30.5, 'bitrate': 6050, 'start': 0.0, 'default_video_input_number': 0, 'default_video_stream_number': 0, 'video_codec_name': 'h264', 'video_profile': '(Main)', 'video_size': [1920, 1080], 'video_bitrate': 5879, 'video_fps': 9.72, 'default_audio_input_number': 0, 'default_audio_stream_number': 1, 'audio_fps': 48000, 'audio_bitrate': 175, 'video_duration': 30.5, 'video_n_frames': 296}\n",
      "C:\\Users\\Hannah\\miniconda3\\envs\\python\\Lib\\site-packages\\imageio_ffmpeg\\binaries\\ffmpeg-win-x86_64-v7.1.exe -i 43ngmthrash.mp4 -loglevel error -f image2pipe -vf scale=1920:1080 -sws_flags bicubic -pix_fmt rgb24 -vcodec rawvideo -\n"
     ]
    },
    {
     "name": "stderr",
     "output_type": "stream",
     "text": [
      "                                                                                   "
     ]
    },
    {
     "name": "stdout",
     "output_type": "stream",
     "text": [
      "MoviePy - Done !\n",
      "MoviePy - video ready allthree1.mp4\n"
     ]
    }
   ],
   "source": [
    "array= [\n",
    "    [final_clip1, final_clip2, final_clip3]\n",
    "]\n",
    "final_clip4=clips_array(array)\n",
    "final_clip4=CompositeVideoClip([final_clip4])\n",
    "final_clip4.write_videofile(\"allthree1.mp4\")"
   ]
  }
 ],
 "metadata": {
  "kernelspec": {
   "display_name": "Python 3 (ipykernel)",
   "language": "python",
   "name": "python3"
  },
  "language_info": {
   "codemirror_mode": {
    "name": "ipython",
    "version": 3
   },
   "file_extension": ".py",
   "mimetype": "text/x-python",
   "name": "python",
   "nbconvert_exporter": "python",
   "pygments_lexer": "ipython3",
   "version": "3.12.8"
  }
 },
 "nbformat": 4,
 "nbformat_minor": 5
}
