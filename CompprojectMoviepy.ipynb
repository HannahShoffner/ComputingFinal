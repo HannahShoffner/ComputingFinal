{
 "cells": [
  {
   "cell_type": "markdown",
   "id": "d8853397-ab3a-4fac-b2c4-ea1ebaaf0652",
   "metadata": {},
   "source": [
    "### This imports the moviepy code and three specific functions."
   ]
  },
  {
   "cell_type": "code",
   "execution_count": 3,
   "id": "e11c9587-b66d-4a42-8f9b-d2d128b55ea8",
   "metadata": {},
   "outputs": [],
   "source": [
    "from moviepy import VideoFileClip, TextClip, CompositeVideoClip  "
   ]
  },
  {
   "cell_type": "markdown",
   "id": "91f3c0a8-ccbc-40b7-abd4-fc82c392d78e",
   "metadata": {},
   "source": [
    "## This first code example shortens the video to only include the portion with the worms in the picture.\n",
    "### Instead of the video being its full 51 seconds long, it will end after 13 seconds.¶"
   ]
  },
  {
   "cell_type": "code",
   "execution_count": 7,
   "id": "43e3e7ec-f254-4eb6-a857-5a8261519bca",
   "metadata": {
    "scrolled": true
   },
   "outputs": [
    {
     "name": "stdout",
     "output_type": "stream",
     "text": [
      "{'video_found': True, 'audio_found': True, 'metadata': {'major_brand': 'mp42', 'minor_version': '0', 'compatible_brands': 'mp41isom', 'creation_time': '2025-02-18T01:29:39.000000Z'}, 'inputs': [{'streams': [{'input_number': 0, 'stream_number': 0, 'stream_type': 'video', 'language': None, 'default': True, 'size': [1920, 1080], 'bitrate': 5851, 'fps': 9.71, 'codec_name': 'h264', 'profile': '(Main)', 'metadata': {'Metadata': '', 'creation_time': '2025-02-18T01:29:39.000000Z', 'handler_name': 'VideoHandler', 'vendor_id': '[0][0][0][0]', 'encoder': 'AVC Coding'}}, {'input_number': 0, 'stream_number': 1, 'stream_type': 'audio', 'language': None, 'default': True, 'fps': 48000, 'bitrate': 177, 'metadata': {'Metadata': '', 'creation_time': '2025-02-18T01:29:39.000000Z', 'handler_name': 'SoundHandler', 'vendor_id': '[0][0][0][0]'}}], 'input_number': 0}], 'duration': 51.72, 'bitrate': 6031, 'start': 0.0, 'default_video_input_number': 0, 'default_video_stream_number': 0, 'video_codec_name': 'h264', 'video_profile': '(Main)', 'video_size': [1920, 1080], 'video_bitrate': 5851, 'video_fps': 9.71, 'default_audio_input_number': 0, 'default_audio_stream_number': 1, 'audio_fps': 48000, 'audio_bitrate': 177, 'video_duration': 51.72, 'video_n_frames': 502}\n",
      "C:\\Users\\Hannah\\miniconda3\\envs\\python\\Lib\\site-packages\\imageio_ffmpeg\\binaries\\ffmpeg-win-x86_64-v7.1.exe -i lethargicpostcaf.mp4 -loglevel error -f image2pipe -vf scale=1920:1080 -sws_flags bicubic -pix_fmt rgb24 -vcodec rawvideo -\n"
     ]
    }
   ],
   "source": [
    "\n",
    "clip = (\n",
    "    VideoFileClip(\"lethargicpostcaf.mp4\") \n",
    "    .subclipped(0, 13))"
   ]
  },
  {
   "cell_type": "markdown",
   "id": "3b3df9e3-fb01-4774-9922-e9ecdc97e484",
   "metadata": {},
   "source": [
    "### This code creates new video file from the preceding code."
   ]
  },
  {
   "cell_type": "code",
   "execution_count": 9,
   "id": "a9945350-2536-49cc-9319-82681d8b889a",
   "metadata": {
    "scrolled": true
   },
   "outputs": [
    {
     "name": "stdout",
     "output_type": "stream",
     "text": [
      "MoviePy - Building video result.mp4.\n",
      "MoviePy - Writing audio in resultTEMP_MPY_wvf_snd.mp3\n"
     ]
    },
    {
     "name": "stderr",
     "output_type": "stream",
     "text": [
      "                                                                                                                                                                                                                                            "
     ]
    },
    {
     "name": "stdout",
     "output_type": "stream",
     "text": [
      "MoviePy - Done.\n",
      "MoviePy - Writing video result.mp4\n",
      "\n"
     ]
    },
    {
     "name": "stderr",
     "output_type": "stream",
     "text": [
      "                                                                                                                                                                                                                                            "
     ]
    },
    {
     "name": "stdout",
     "output_type": "stream",
     "text": [
      "MoviePy - Done !\n",
      "MoviePy - video ready result.mp4\n"
     ]
    }
   ],
   "source": [
    "clip.write_videofile(\"result.mp4\")"
   ]
  },
  {
   "cell_type": "code",
   "execution_count": null,
   "id": "8ba736df-bff4-4c5a-9a7e-433a9133ec81",
   "metadata": {},
   "outputs": [],
   "source": []
  }
 ],
 "metadata": {
  "kernelspec": {
   "display_name": "Python 3 (ipykernel)",
   "language": "python",
   "name": "python3"
  },
  "language_info": {
   "codemirror_mode": {
    "name": "ipython",
    "version": 3
   },
   "file_extension": ".py",
   "mimetype": "text/x-python",
   "name": "python",
   "nbconvert_exporter": "python",
   "pygments_lexer": "ipython3",
   "version": "3.12.8"
  }
 },
 "nbformat": 4,
 "nbformat_minor": 5
}
