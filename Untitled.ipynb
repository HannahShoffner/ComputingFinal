{
 "cells": [
  {
   "cell_type": "code",
   "execution_count": null,
   "id": "6adf0689-9c54-4019-b821-e1d68f3e3845",
   "metadata": {},
   "outputs": [],
   "source": []
  },
  {
   "cell_type": "code",
   "execution_count": null,
   "id": "6c7eb7dc-0b13-49ef-859f-b016095f7e7a",
   "metadata": {},
   "outputs": [],
   "source": [
    "from moviepy import VideoFileClip, TextClip, CompositeVideoClip, ImageSequenceClip,ImageClip"
   ]
  },
  {
   "cell_type": "code",
   "execution_count": null,
   "id": "37050642-0d11-40a1-9ed4-ea8395ec6cf4",
   "metadata": {},
   "outputs": [],
   "source": [
    "logo_clip = ImageClip(\"./resources/logo_bbb.png\").resized(width=400)\n",
    "moviepy_clip = ImageClip(\"./resources/logo_moviepy.png\").resized(width=300)"
   ]
  },
  {
   "cell_type": "code",
   "execution_count": null,
   "id": "6ff9c523-6d09-41a1-945a-f7d2b26e3e93",
   "metadata": {},
   "outputs": [],
   "source": []
  },
  {
   "cell_type": "code",
   "execution_count": null,
   "id": "91dcf29a-8c58-490b-99e1-1b1dc3677922",
   "metadata": {},
   "outputs": [],
   "source": []
  },
  {
   "cell_type": "code",
   "execution_count": null,
   "id": "84cb7233-3cbb-442c-bc05-ff6f864a87a2",
   "metadata": {},
   "outputs": [],
   "source": []
  }
 ],
 "metadata": {
  "kernelspec": {
   "display_name": "Python 3 (ipykernel)",
   "language": "python",
   "name": "python3"
  },
  "language_info": {
   "codemirror_mode": {
    "name": "ipython",
    "version": 3
   },
   "file_extension": ".py",
   "mimetype": "text/x-python",
   "name": "python",
   "nbconvert_exporter": "python",
   "pygments_lexer": "ipython3",
   "version": "3.12.8"
  }
 },
 "nbformat": 4,
 "nbformat_minor": 5
}
